{
 "cells": [
  {
   "cell_type": "code",
   "execution_count": 1,
   "metadata": {},
   "outputs": [],
   "source": [
    "import pandas as pd\n",
    "data = pd.read_csv('Data_set.csv')\n",
    "df = pd.DataFrame(data)"
   ]
  },
  {
   "cell_type": "code",
   "execution_count": 2,
   "metadata": {},
   "outputs": [],
   "source": [
    "df_model = df.copy()\n",
    "df_model = df_model[(df_model['BILL_AMT6'] > 0) & (df_model['Limit'] > 0) & (df_model['Debt'] > 31)]"
   ]
  },
  {
   "cell_type": "markdown",
   "metadata": {},
   "source": [
    "## Q10. Perform bivariate analysis on the continuous variable total debt (Variable name: 'Debt'). Divide the variable in the five equal bins and compute default rate in each bin."
   ]
  },
  {
   "cell_type": "code",
   "execution_count": 3,
   "metadata": {},
   "outputs": [
    {
     "name": "stdout",
     "output_type": "stream",
     "text": [
      "Debt\n",
      "(31.999, 35.0]    0.188146\n",
      "(35.0, 38.0]      0.209031\n",
      "(38.0, 43.0]      0.212879\n",
      "(43.0, 48.0]      0.227273\n",
      "(48.0, 81.0]      0.245167\n",
      "Name: default payment next month, dtype: float64\n"
     ]
    }
   ],
   "source": [
    "total_debt = pd.qcut(df_model['Debt'],q=5)\n",
    "default_rates = df_model.groupby(total_debt)['default payment next month'].mean()\n",
    "print(default_rates)"
   ]
  }
 ],
 "metadata": {
  "kernelspec": {
   "display_name": "Python 3",
   "language": "python",
   "name": "python3"
  },
  "language_info": {
   "codemirror_mode": {
    "name": "ipython",
    "version": 3
   },
   "file_extension": ".py",
   "mimetype": "text/x-python",
   "name": "python",
   "nbconvert_exporter": "python",
   "pygments_lexer": "ipython3",
   "version": "3.6.9"
  }
 },
 "nbformat": 4,
 "nbformat_minor": 2
}
