{
 "cells": [
  {
   "cell_type": "markdown",
   "metadata": {},
   "source": [
    "### Q11. Answer following questions in 'Yes' or 'No':\n",
    "#### Questions:\n",
    "##### A. Does the default rate monotonically decrease (based on question 8 result) as the payment ratio increases?\n",
    "##### B. Does the default rate monotonically decrease (based on question 9 result) as the credit limit increases?\n",
    "##### C. Does the default rate monotonically increase (based on question 10 result) as the debt increases?\n"
   ]
  },
  {
   "cell_type": "markdown",
   "metadata": {},
   "source": [
    "#### Answers:\n",
    "##### A. Yes\n",
    "##### B. Yes\n",
    "##### C. Yes"
   ]
  }
 ],
 "metadata": {
  "kernelspec": {
   "display_name": "Python 3",
   "language": "python",
   "name": "python3"
  },
  "language_info": {
   "codemirror_mode": {
    "name": "ipython",
    "version": 3
   },
   "file_extension": ".py",
   "mimetype": "text/x-python",
   "name": "python",
   "nbconvert_exporter": "python",
   "pygments_lexer": "ipython3",
   "version": "3.6.9"
  }
 },
 "nbformat": 4,
 "nbformat_minor": 2
}
