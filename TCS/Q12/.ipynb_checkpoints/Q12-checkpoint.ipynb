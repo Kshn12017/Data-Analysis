{
 "cells": [
  {
   "cell_type": "code",
   "execution_count": 1,
   "metadata": {},
   "outputs": [],
   "source": [
    "import pandas as pd\n",
    "import numpy as np\n",
    "data = pd.read_csv('Data_set.csv')\n",
    "df = pd.DataFrame(data)"
   ]
  },
  {
   "cell_type": "code",
   "execution_count": 2,
   "metadata": {},
   "outputs": [],
   "source": [
    "df_model = df.copy()\n",
    "df_model = df_model[(df_model['BILL_AMT6'] > 0) & (df_model['Limit'] > 0) & (df_model['Debt'] > 31)]"
   ]
  },
  {
   "cell_type": "code",
   "execution_count": 3,
   "metadata": {},
   "outputs": [],
   "source": [
    "payment_ratio = df_model['PAY_AMT6'] / df_model['BILL_AMT6']\n",
    "credit_limit = df_model['Limit']/1000"
   ]
  },
  {
   "cell_type": "markdown",
   "metadata": {},
   "source": [
    "## Q12. Compute the 1st and 99th percentile value of the variables payment ratio (Created in question 6), credit limit (Created in question 7) and total debt (Variable name: Debt)"
   ]
  },
  {
   "cell_type": "code",
   "execution_count": 4,
   "metadata": {},
   "outputs": [
    {
     "name": "stdout",
     "output_type": "stream",
     "text": [
      "1st percentile of Payment_ratio :  0.0\n",
      "99th percentile of Payment_ratio :  24.968390804597707\n"
     ]
    }
   ],
   "source": [
    "pay_per1 = np.percentile(payment_ratio, 1)\n",
    "print(\"1st percentile of Payment_ratio : \", pay_per1)\n",
    "pay_per99 = np.percentile(payment_ratio, 99)\n",
    "print(\"99th percentile of Payment_ratio : \", pay_per99)"
   ]
  },
  {
   "cell_type": "code",
   "execution_count": 5,
   "metadata": {},
   "outputs": [
    {
     "name": "stdout",
     "output_type": "stream",
     "text": [
      "1st percentile of Credit_limit :  10.5\n",
      "99th percentile of Credit_limit :  510.4\n"
     ]
    }
   ],
   "source": [
    "credit_per1 = np.percentile(credit_limit, 1)\n",
    "print(\"1st percentile of Credit_limit : \", credit_per1)\n",
    "credit_per99 = np.percentile(credit_limit, 99)\n",
    "print(\"99th percentile of Credit_limit : \", credit_per99)"
   ]
  },
  {
   "cell_type": "code",
   "execution_count": 6,
   "metadata": {},
   "outputs": [
    {
     "name": "stdout",
     "output_type": "stream",
     "text": [
      "1st percentile of Debt :  32.0\n",
      "99th percentile of Debt :  63.0\n"
     ]
    }
   ],
   "source": [
    "debt_per1 = np.percentile(df_model['Debt'], 1)\n",
    "print(\"1st percentile of Debt : \", debt_per1)\n",
    "debt_per99 = np.percentile(df_model['Debt'], 99)\n",
    "print(\"99th percentile of Debt : \", debt_per99)"
   ]
  }
 ],
 "metadata": {
  "kernelspec": {
   "display_name": "Python 3",
   "language": "python",
   "name": "python3"
  },
  "language_info": {
   "codemirror_mode": {
    "name": "ipython",
    "version": 3
   },
   "file_extension": ".py",
   "mimetype": "text/x-python",
   "name": "python",
   "nbconvert_exporter": "python",
   "pygments_lexer": "ipython3",
   "version": "3.6.9"
  }
 },
 "nbformat": 4,
 "nbformat_minor": 2
}
