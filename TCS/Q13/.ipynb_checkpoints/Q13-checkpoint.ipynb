{
 "cells": [
  {
   "cell_type": "code",
   "execution_count": 1,
   "metadata": {},
   "outputs": [],
   "source": [
    "import pandas as pd\n",
    "import numpy as np\n",
    "data = pd.read_csv('Data_set.csv')\n",
    "df = pd.DataFrame(data)"
   ]
  },
  {
   "cell_type": "code",
   "execution_count": 2,
   "metadata": {},
   "outputs": [],
   "source": [
    "df_model = df.copy()\n",
    "df_model = df_model[(df_model['BILL_AMT6'] > 0) & (df_model['Limit'] > 0) & (df_model['Debt'] > 31)]"
   ]
  },
  {
   "cell_type": "code",
   "execution_count": 3,
   "metadata": {},
   "outputs": [],
   "source": [
    "payment_ratio = df_model['PAY_AMT6'] / df_model['BILL_AMT6']\n",
    "df_model['payment_ratio']  = payment_ratio\n",
    "credit_limit = df_model['Limit']/1000\n",
    "df_model['credit_limit'] = credit_limit"
   ]
  },
  {
   "cell_type": "markdown",
   "metadata": {},
   "source": [
    "## Q13. Create new variables for payment ratio (Created in question 6), credit limit (Created in question 7) and total debt (Variable name: Debt) by capping the variables at 99th percentile values. Compare the pre and post capped variables mean. Use rescaled variable for credit limit."
   ]
  },
  {
   "cell_type": "code",
   "execution_count": 4,
   "metadata": {},
   "outputs": [
    {
     "name": "stdout",
     "output_type": "stream",
     "text": [
      "Mean of Payment_ratio 1.7047184027756808\n",
      "Mean of New Payment_ratio 0.8605587242670684\n"
     ]
    }
   ],
   "source": [
    "new_payment_ratio = payment_ratio.copy()\n",
    "pay_per99 = np.percentile(payment_ratio, 99)\n",
    "new_payment_ratio[payment_ratio > pay_per99] = pay_per99\n",
    "df_model['new_payment_ratio'] = new_payment_ratio\n",
    "\n",
    "print('Mean of Payment_ratio', df_model['payment_ratio'].mean())\n",
    "print('Mean of New Payment_ratio', df_model['new_payment_ratio'].mean())"
   ]
  },
  {
   "cell_type": "code",
   "execution_count": 5,
   "metadata": {},
   "outputs": [
    {
     "name": "stdout",
     "output_type": "stream",
     "text": [
      "Mean of Credit_limit 186.87886576609466\n",
      "Mean of New Credit_limit 185.93733601070952\n"
     ]
    }
   ],
   "source": [
    "new_credit_limit = credit_limit.copy()\n",
    "credit_per99 = np.percentile(credit_limit, 99)\n",
    "new_credit_limit[credit_limit > credit_per99] = credit_per99\n",
    "df_model['new_credit_limit'] = new_credit_limit\n",
    "\n",
    "print('Mean of Credit_limit', df_model['credit_limit'].mean())\n",
    "print('Mean of New Credit_limit', df_model['new_credit_limit'].mean())"
   ]
  },
  {
   "cell_type": "code",
   "execution_count": 6,
   "metadata": {},
   "outputs": [
    {
     "name": "stdout",
     "output_type": "stream",
     "text": [
      "Mean of Debt 41.87550200803213\n",
      "Mean of New total_debt 41.83388097845929\n"
     ]
    }
   ],
   "source": [
    "new_total_debt = df_model['Debt'].copy()\n",
    "debt_per99 = np.percentile(df_model['Debt'], 99)\n",
    "new_total_debt[df_model['Debt'] > debt_per99] = debt_per99\n",
    "df_model['new_total_debt'] = new_total_debt\n",
    "\n",
    "print('Mean of Debt', df_model['Debt'].mean())\n",
    "print('Mean of New total_debt', df_model['new_total_debt'].mean())"
   ]
  }
 ],
 "metadata": {
  "kernelspec": {
   "display_name": "Python 3",
   "language": "python",
   "name": "python3"
  },
  "language_info": {
   "codemirror_mode": {
    "name": "ipython",
    "version": 3
   },
   "file_extension": ".py",
   "mimetype": "text/x-python",
   "name": "python",
   "nbconvert_exporter": "python",
   "pygments_lexer": "ipython3",
   "version": "3.6.9"
  }
 },
 "nbformat": 4,
 "nbformat_minor": 2
}
