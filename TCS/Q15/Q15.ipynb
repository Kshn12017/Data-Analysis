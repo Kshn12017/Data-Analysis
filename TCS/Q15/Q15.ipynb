{
 "cells": [
  {
   "cell_type": "code",
   "execution_count": 1,
   "metadata": {},
   "outputs": [],
   "source": [
    "import pandas as pd\n",
    "import numpy as np\n",
    "data = pd.read_csv('Data_set.csv')\n",
    "df = pd.DataFrame(data)"
   ]
  },
  {
   "cell_type": "code",
   "execution_count": 2,
   "metadata": {},
   "outputs": [],
   "source": [
    "df_model = df.copy()\n",
    "df_model = df_model[(df_model['BILL_AMT6'] > 0) & (df_model['Limit'] > 0) & (df_model['Debt'] > 31)]"
   ]
  },
  {
   "cell_type": "code",
   "execution_count": 3,
   "metadata": {},
   "outputs": [],
   "source": [
    "payment_ratio = df_model['PAY_AMT6'] / df_model['BILL_AMT6']\n",
    "df_model['payment_ratio']  = payment_ratio\n",
    "credit_limit = df_model['Limit']/1000\n",
    "df_model['credit_limit'] = credit_limit\n",
    "intercept = 1\n",
    "df_model['intercept'] = intercept"
   ]
  },
  {
   "cell_type": "markdown",
   "metadata": {},
   "source": [
    "## Q15. Create train (Insample data) and test (out of sample) data with random seed as '0'. Test data should have 20% of the model development data records. The 'Y' variable will be 'default payment next month' and 'X variables will be ('Debt', 'Credit limit', 'intercept' and 'Payment ratio'.\n",
    "## How many records are there in train and test data? Hint: Use train test split from sklearn"
   ]
  },
  {
   "cell_type": "code",
   "execution_count": 4,
   "metadata": {},
   "outputs": [
    {
     "name": "stdout",
     "output_type": "stream",
     "text": [
      "x_train :  (13147, 4)\n",
      "x_test :  (3287, 4)\n",
      "y_train :  (13147,)\n",
      "y_test :  (3287,)\n"
     ]
    }
   ],
   "source": [
    "x = df_model.loc[:,['Debt','credit_limit','intercept','payment_ratio']]\n",
    "y = df_model.loc[:,'default payment next month']\n",
    "\n",
    "from sklearn.model_selection import train_test_split\n",
    "x_train, x_test, y_train, y_test = train_test_split(x, y, test_size=0.2, random_state=0)\n",
    "\n",
    "print(\"x_train : \",x_train.shape)\n",
    "print(\"x_test : \",x_test.shape)\n",
    "print(\"y_train : \",y_train.shape)\n",
    "print(\"y_test : \",y_test.shape)"
   ]
  },
  {
   "cell_type": "code",
   "execution_count": 5,
   "metadata": {},
   "outputs": [],
   "source": [
    "#There are 13147 records in test data and 3287 records in test data."
   ]
  }
 ],
 "metadata": {
  "kernelspec": {
   "display_name": "Python 3",
   "language": "python",
   "name": "python3"
  },
  "language_info": {
   "codemirror_mode": {
    "name": "ipython",
    "version": 3
   },
   "file_extension": ".py",
   "mimetype": "text/x-python",
   "name": "python",
   "nbconvert_exporter": "python",
   "pygments_lexer": "ipython3",
   "version": "3.6.9"
  }
 },
 "nbformat": 4,
 "nbformat_minor": 2
}
