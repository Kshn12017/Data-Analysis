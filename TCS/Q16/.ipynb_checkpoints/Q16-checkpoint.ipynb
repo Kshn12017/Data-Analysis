{
 "cells": [
  {
   "cell_type": "code",
   "execution_count": 1,
   "metadata": {},
   "outputs": [],
   "source": [
    "import pandas as pd\n",
    "import numpy as np\n",
    "data = pd.read_csv('Data_set.csv')\n",
    "df = pd.DataFrame(data)"
   ]
  },
  {
   "cell_type": "code",
   "execution_count": 2,
   "metadata": {},
   "outputs": [],
   "source": [
    "df_model = df.copy()\n",
    "df_model = df_model[(df_model['BILL_AMT6'] > 0) & (df_model['Limit'] > 0) & (df_model['Debt'] > 31)]"
   ]
  },
  {
   "cell_type": "code",
   "execution_count": 3,
   "metadata": {},
   "outputs": [],
   "source": [
    "payment_ratio = df_model['PAY_AMT6'] / df_model['BILL_AMT6']\n",
    "df_model['payment_ratio']  = payment_ratio\n",
    "credit_limit = df_model['Limit']/1000\n",
    "df_model['credit_limit'] = credit_limit\n",
    "intercept = 1\n",
    "df_model['intercept'] = intercept"
   ]
  },
  {
   "cell_type": "code",
   "execution_count": 4,
   "metadata": {},
   "outputs": [],
   "source": [
    "new_payment_ratio = payment_ratio.copy()\n",
    "pay_per99 = np.percentile(payment_ratio, 99)\n",
    "new_payment_ratio[payment_ratio > pay_per99] = pay_per99\n",
    "\n",
    "new_credit_limit = credit_limit.copy()\n",
    "credit_per99 = np.percentile(credit_limit, 99)\n",
    "new_credit_limit[credit_limit > credit_per99] = credit_per99\n",
    "\n",
    "new_total_debt = df_model['Debt'].copy()\n",
    "debt_per99 = np.percentile(df_model['Debt'], 99)\n",
    "new_total_debt[df_model['Debt'] > debt_per99] = debt_per99"
   ]
  },
  {
   "cell_type": "markdown",
   "metadata": {},
   "source": [
    "## Q16. Create new train and new test data with random seed as '0' based on the capped variables created in question 13. Test data should have 20% of the model development data records.\n",
    "## How many records are there in train and test data?"
   ]
  },
  {
   "cell_type": "code",
   "execution_count": 5,
   "metadata": {},
   "outputs": [
    {
     "name": "stdout",
     "output_type": "stream",
     "text": [
      "x_train :  (13147, 4)\n",
      "x_test :  (3287, 4)\n",
      "y_train :  (13147,)\n",
      "y_test :  (3287,)\n"
     ]
    }
   ],
   "source": [
    "new_x = pd.DataFrame()\n",
    "new_x['new_total_debt'] = new_total_debt\n",
    "new_x['new_credit_limit'] = new_credit_limit\n",
    "new_x['intercept'] = df_model['intercept']\n",
    "new_x['new_payment_ratio'] = new_payment_ratio\n",
    "new_y = df_model.loc[:,'default payment next month']\n",
    "\n",
    "from sklearn.model_selection import train_test_split\n",
    "new_x_train, new_x_test, new_y_train, new_y_test = train_test_split(new_x, new_y, test_size=0.2, random_state=0)\n",
    "print(\"x_train : \",new_x_train.shape)\n",
    "print(\"x_test : \",new_x_test.shape)\n",
    "print(\"y_train : \",new_y_train.shape)\n",
    "print(\"y_test : \",new_y_test.shape)"
   ]
  },
  {
   "cell_type": "code",
   "execution_count": 6,
   "metadata": {},
   "outputs": [],
   "source": [
    "#There are 13147 records in the train data and 3287 in the test data."
   ]
  }
 ],
 "metadata": {
  "kernelspec": {
   "display_name": "Python 3",
   "language": "python",
   "name": "python3"
  },
  "language_info": {
   "codemirror_mode": {
    "name": "ipython",
    "version": 3
   },
   "file_extension": ".py",
   "mimetype": "text/x-python",
   "name": "python",
   "nbconvert_exporter": "python",
   "pygments_lexer": "ipython3",
   "version": "3.6.9"
  }
 },
 "nbformat": 4,
 "nbformat_minor": 2
}
