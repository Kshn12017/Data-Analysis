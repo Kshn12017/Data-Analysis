{
 "cells": [
  {
   "cell_type": "code",
   "execution_count": 1,
   "metadata": {},
   "outputs": [
    {
     "name": "stdout",
     "output_type": "stream",
     "text": [
      "Defaulting to user installation because normal site-packages is not writeable\n",
      "Requirement already satisfied: statsmodels in /home/user7/.local/lib/python3.6/site-packages (0.12.2)\n",
      "Requirement already satisfied: scipy>=1.1 in /usr/local/lib/python3.6/dist-packages (from statsmodels) (1.5.4)\n",
      "Requirement already satisfied: numpy>=1.15 in /usr/local/lib/python3.6/dist-packages (from statsmodels) (1.19.5)\n",
      "Requirement already satisfied: patsy>=0.5 in /home/user7/.local/lib/python3.6/site-packages (from statsmodels) (0.5.3)\n",
      "Requirement already satisfied: pandas>=0.21 in /usr/lib/python3/dist-packages (from statsmodels) (0.22.0)\n",
      "Requirement already satisfied: six in /usr/local/lib/python3.6/dist-packages (from patsy>=0.5->statsmodels) (1.15.0)\n"
     ]
    }
   ],
   "source": [
    "!pip install statsmodels"
   ]
  },
  {
   "cell_type": "code",
   "execution_count": 2,
   "metadata": {},
   "outputs": [],
   "source": [
    "import pandas as pd\n",
    "import numpy as np\n",
    "data = pd.read_csv('Data_set.csv')\n",
    "df = pd.DataFrame(data)"
   ]
  },
  {
   "cell_type": "code",
   "execution_count": 3,
   "metadata": {},
   "outputs": [],
   "source": [
    "df_model = df.copy()\n",
    "df_model = df_model[(df_model['BILL_AMT6'] > 0) & (df_model['Limit'] > 0) & (df_model['Debt'] > 31)]"
   ]
  },
  {
   "cell_type": "code",
   "execution_count": 4,
   "metadata": {},
   "outputs": [],
   "source": [
    "payment_ratio = df_model['PAY_AMT6'] / df_model['BILL_AMT6']\n",
    "df_model['payment_ratio']  = payment_ratio\n",
    "credit_limit = df_model['Limit']/1000\n",
    "df_model['credit_limit'] = credit_limit\n",
    "intercept = 1\n",
    "df_model['intercept'] = intercept"
   ]
  },
  {
   "cell_type": "code",
   "execution_count": 5,
   "metadata": {},
   "outputs": [],
   "source": [
    "x = df_model.loc[:,['Debt','credit_limit','intercept','payment_ratio']]\n",
    "y = df_model.loc[:,'default payment next month']\n",
    "\n",
    "from sklearn.model_selection import train_test_split\n",
    "x_train, x_test, y_train, y_test = train_test_split(x, y, test_size=0.2, random_state=0)"
   ]
  },
  {
   "cell_type": "markdown",
   "metadata": {},
   "source": [
    "## Q17. Using the train data fit the logistic model and print the model coefficient"
   ]
  },
  {
   "cell_type": "code",
   "execution_count": 6,
   "metadata": {},
   "outputs": [
    {
     "name": "stdout",
     "output_type": "stream",
     "text": [
      "Optimization terminated successfully.\n",
      "         Current function value: 0.501292\n",
      "         Iterations 7\n",
      "Model Coefficients: \n",
      " Debt             0.009078\n",
      "credit_limit    -0.003895\n",
      "intercept       -1.027593\n",
      "payment_ratio   -0.001246\n",
      "dtype: float64\n",
      "======================================================================================\n",
      "                               Logit Regression Results                               \n",
      "======================================================================================\n",
      "Dep. Variable:     default payment next month   No. Observations:                13147\n",
      "Model:                                  Logit   Df Residuals:                    13143\n",
      "Method:                                   MLE   Df Model:                            3\n",
      "Date:                        Tue, 18 Apr 2023   Pseudo R-squ.:                 0.03826\n",
      "Time:                                07:34:17   Log-Likelihood:                -6590.5\n",
      "converged:                               True   LL-Null:                       -6852.7\n",
      "Covariance Type:                    nonrobust   LLR p-value:                2.503e-113\n",
      "=================================================================================\n",
      "                    coef    std err          z      P>|z|      [0.025      0.975]\n",
      "---------------------------------------------------------------------------------\n",
      "Debt              0.0091      0.003      3.297      0.001       0.004       0.014\n",
      "credit_limit     -0.0039      0.000    -20.559      0.000      -0.004      -0.004\n",
      "intercept        -1.0276      0.124     -8.264      0.000      -1.271      -0.784\n",
      "payment_ratio    -0.0012      0.002     -0.752      0.452      -0.004       0.002\n",
      "=================================================================================\n"
     ]
    }
   ],
   "source": [
    "import statsmodels.api as sm\n",
    "\n",
    "log_reg = sm.Logit(y_train, x_train).fit()\n",
    "print(\"Model Coefficients: \\n\",log_reg.params)\n",
    "print(\"======================================================================================\")\n",
    "print(log_reg.summary())"
   ]
  }
 ],
 "metadata": {
  "kernelspec": {
   "display_name": "Python 3",
   "language": "python",
   "name": "python3"
  },
  "language_info": {
   "codemirror_mode": {
    "name": "ipython",
    "version": 3
   },
   "file_extension": ".py",
   "mimetype": "text/x-python",
   "name": "python",
   "nbconvert_exporter": "python",
   "pygments_lexer": "ipython3",
   "version": "3.6.9"
  }
 },
 "nbformat": 4,
 "nbformat_minor": 2
}
