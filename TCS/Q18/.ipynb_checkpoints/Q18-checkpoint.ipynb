{
 "cells": [
  {
   "cell_type": "code",
   "execution_count": 1,
   "metadata": {},
   "outputs": [],
   "source": [
    "import pandas as pd\n",
    "import numpy as np\n",
    "data = pd.read_csv('Data_set.csv')\n",
    "df = pd.DataFrame(data)"
   ]
  },
  {
   "cell_type": "code",
   "execution_count": 2,
   "metadata": {},
   "outputs": [],
   "source": [
    "df_model = df.copy()\n",
    "df_model = df_model[(df_model['BILL_AMT6'] > 0) & (df_model['Limit'] > 0) & (df_model['Debt'] > 31)]"
   ]
  },
  {
   "cell_type": "code",
   "execution_count": 14,
   "metadata": {},
   "outputs": [],
   "source": [
    "payment_ratio = df_model['PAY_AMT6'] / df_model['BILL_AMT6']\n",
    "credit_limit = df_model['Limit']/1000\n",
    "intercept = 1\n",
    "df_model['intercept'] = intercept"
   ]
  },
  {
   "cell_type": "code",
   "execution_count": 15,
   "metadata": {},
   "outputs": [],
   "source": [
    "new_payment_ratio = payment_ratio.copy()\n",
    "pay_per99 = np.percentile(payment_ratio, 99)\n",
    "new_payment_ratio[payment_ratio > pay_per99] = pay_per99\n",
    "\n",
    "new_credit_limit = credit_limit.copy()\n",
    "credit_per99 = np.percentile(credit_limit, 99)\n",
    "new_credit_limit[credit_limit > credit_per99] = credit_per99\n",
    "\n",
    "new_total_debt = df_model['Debt'].copy()\n",
    "debt_per99 = np.percentile(df_model['Debt'], 99)\n",
    "new_total_debt[df_model['Debt'] > debt_per99] = debt_per99"
   ]
  },
  {
   "cell_type": "code",
   "execution_count": 9,
   "metadata": {},
   "outputs": [],
   "source": [
    "new_x = pd.DataFrame()\n",
    "new_x['new_total_debt'] = new_total_debt\n",
    "new_x['new_credit_limit'] = new_credit_limit\n",
    "new_x['intercept'] = df_model['intercept']\n",
    "new_x['new_payment_ratio'] = new_payment_ratio\n",
    "new_y = df_model.loc[:,'default payment next month']\n",
    "\n",
    "from sklearn.model_selection import train_test_split\n",
    "new_x_train, new_x_test, new_y_train, new_y_test = train_test_split(new_x, new_y, test_size=0.2, random_state=0)"
   ]
  },
  {
   "cell_type": "markdown",
   "metadata": {},
   "source": [
    "## Q18. Using the new train data (Created in question 16) fit the logistic model and print the model coefficient"
   ]
  },
  {
   "cell_type": "code",
   "execution_count": 11,
   "metadata": {},
   "outputs": [
    {
     "name": "stdout",
     "output_type": "stream",
     "text": [
      "Optimization terminated successfully.\n",
      "         Current function value: 0.500890\n",
      "         Iterations 6\n",
      "\n",
      "Model Coefficients: \n",
      " new_total_debt       0.009096\n",
      "new_credit_limit    -0.003875\n",
      "intercept           -1.015846\n",
      "new_payment_ratio   -0.025254\n",
      "dtype: float64\n",
      "======================================================================================\n",
      "                               Logit Regression Results                               \n",
      "======================================================================================\n",
      "Dep. Variable:     default payment next month   No. Observations:                13147\n",
      "Model:                                  Logit   Df Residuals:                    13143\n",
      "Method:                                   MLE   Df Model:                            3\n",
      "Date:                        Tue, 18 Apr 2023   Pseudo R-squ.:                 0.03903\n",
      "Time:                                09:17:36   Log-Likelihood:                -6585.2\n",
      "converged:                               True   LL-Null:                       -6852.7\n",
      "Covariance Type:                    nonrobust   LLR p-value:                1.289e-115\n",
      "=====================================================================================\n",
      "                        coef    std err          z      P>|z|      [0.025      0.975]\n",
      "-------------------------------------------------------------------------------------\n",
      "new_total_debt        0.0091      0.003      3.244      0.001       0.004       0.015\n",
      "new_credit_limit     -0.0039      0.000    -20.260      0.000      -0.004      -0.003\n",
      "intercept            -1.0158      0.126     -8.033      0.000      -1.264      -0.768\n",
      "new_payment_ratio    -0.0253      0.009     -2.886      0.004      -0.042      -0.008\n",
      "=====================================================================================\n"
     ]
    }
   ],
   "source": [
    "import statsmodels.api as sm\n",
    "\n",
    "new_log_reg = sm.Logit(new_y_train, new_x_train).fit()\n",
    "print(\"\\nModel Coefficients: \\n\",new_log_reg.params)\n",
    "print(\"======================================================================================\")\n",
    "print(new_log_reg.summary())"
   ]
  }
 ],
 "metadata": {
  "kernelspec": {
   "display_name": "Python 3",
   "language": "python",
   "name": "python3"
  },
  "language_info": {
   "codemirror_mode": {
    "name": "ipython",
    "version": 3
   },
   "file_extension": ".py",
   "mimetype": "text/x-python",
   "name": "python",
   "nbconvert_exporter": "python",
   "pygments_lexer": "ipython3",
   "version": "3.6.9"
  }
 },
 "nbformat": 4,
 "nbformat_minor": 2
}
