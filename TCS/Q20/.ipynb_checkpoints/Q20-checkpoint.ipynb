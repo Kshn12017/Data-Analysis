{
 "cells": [
  {
   "cell_type": "markdown",
   "metadata": {},
   "source": [
    "### Q19. Based on the estimates obtained using the logistic regression using the new train data (created in question 16), answer following questions in 'Yes' or 'No':\n",
    "#### Questions:\n",
    "##### A. Does the estimate sign for payment ratio align with the observed trend in results for question 8?\n",
    "##### B. Does the estimate sign for credit limit align with the observed trend in results for question 9?\n",
    "##### C. Does the estimate sign for debt align with the observed trend in results for question 10?\n",
    "##### D. Are all three variables statistically significant?Does the default rate monotonically decrease (based on question 8 result) as the payment ratio increases?"
   ]
  },
  {
   "cell_type": "markdown",
   "metadata": {},
   "source": [
    "#### Answers:\n",
    "##### A. Yes\n",
    "##### B. Yes\n",
    "##### C. Yes\n",
    "##### D. Yes"
   ]
  }
 ],
 "metadata": {
  "kernelspec": {
   "display_name": "Python 3",
   "language": "python",
   "name": "python3"
  },
  "language_info": {
   "codemirror_mode": {
    "name": "ipython",
    "version": 3
   },
   "file_extension": ".py",
   "mimetype": "text/x-python",
   "name": "python",
   "nbconvert_exporter": "python",
   "pygments_lexer": "ipython3",
   "version": "3.6.9"
  }
 },
 "nbformat": 4,
 "nbformat_minor": 2
}
