{
 "cells": [
  {
   "cell_type": "code",
   "execution_count": 1,
   "metadata": {},
   "outputs": [],
   "source": [
    "import pandas as pd\n",
    "import numpy as np\n",
    "data = pd.read_csv('Data_set.csv')\n",
    "df = pd.DataFrame(data)"
   ]
  },
  {
   "cell_type": "code",
   "execution_count": 2,
   "metadata": {},
   "outputs": [],
   "source": [
    "df_model = df.copy()\n",
    "df_model = df_model[(df_model['BILL_AMT6'] > 0) & (df_model['Limit'] > 0) & (df_model['Debt'] > 31)]"
   ]
  },
  {
   "cell_type": "code",
   "execution_count": 3,
   "metadata": {},
   "outputs": [],
   "source": [
    "payment_ratio = df_model['PAY_AMT6'] / df_model['BILL_AMT6']\n",
    "df_model['payment_ratio']  = payment_ratio\n",
    "credit_limit = df_model['Limit']/1000\n",
    "df_model['credit_limit'] = credit_limit\n",
    "intercept = 1\n",
    "df_model['intercept'] = intercept"
   ]
  },
  {
   "cell_type": "code",
   "execution_count": 4,
   "metadata": {},
   "outputs": [],
   "source": [
    "new_payment_ratio = payment_ratio.copy()\n",
    "pay_per99 = np.percentile(payment_ratio, 99)\n",
    "new_payment_ratio[payment_ratio > pay_per99] = pay_per99\n",
    "\n",
    "new_credit_limit = credit_limit.copy()\n",
    "credit_per99 = np.percentile(credit_limit, 99)\n",
    "new_credit_limit[credit_limit > credit_per99] = credit_per99\n",
    "\n",
    "new_total_debt = df_model['Debt'].copy()\n",
    "debt_per99 = np.percentile(df_model['Debt'], 99)\n",
    "new_total_debt[df_model['Debt'] > debt_per99] = debt_per99"
   ]
  },
  {
   "cell_type": "code",
   "execution_count": 5,
   "metadata": {},
   "outputs": [],
   "source": [
    "new_x = pd.DataFrame()\n",
    "new_x['new_total_debt'] = new_total_debt\n",
    "new_x['new_credit_limit'] = new_credit_limit\n",
    "new_x['intercept'] = df_model['intercept']\n",
    "new_x['new_payment_ratio'] = new_payment_ratio\n",
    "new_y = df_model.loc[:,'default payment next month']\n",
    "\n",
    "from sklearn.model_selection import train_test_split\n",
    "new_x_train, new_x_test, new_y_train, new_y_test = train_test_split(new_x, new_y, test_size=0.2, random_state=0)"
   ]
  },
  {
   "cell_type": "markdown",
   "metadata": {},
   "source": [
    "## Q22. Using the new train data, (created in question 16) fit the logistic model and print the AUC values for new train and new test data."
   ]
  },
  {
   "cell_type": "code",
   "execution_count": 7,
   "metadata": {},
   "outputs": [
    {
     "name": "stdout",
     "output_type": "stream",
     "text": [
      "AUC value of training data:  0.6417098247574968\n",
      "AUC value of testing data:  0.6302004528135181\n"
     ]
    }
   ],
   "source": [
    "from sklearn.metrics import roc_auc_score\n",
    "from sklearn.linear_model import LogisticRegression\n",
    "\n",
    "new_log_regression = LogisticRegression()\n",
    "\n",
    "#fit the model using the training data\n",
    "new_log_regression.fit(new_x_train,new_y_train)\n",
    "\n",
    "#use model to predict probability that given y value is 1\n",
    "new_y_pred_proba_train = new_log_regression.predict_proba(new_x_train)[::,1]\n",
    "new_y_pred_proba_test = new_log_regression.predict_proba(new_x_test)[::,1]\n",
    "\n",
    "#calculate AUC of modelS\n",
    "new_auc_train = roc_auc_score(new_y_train, new_y_pred_proba_train)\n",
    "new_auc_test = roc_auc_score(new_y_test, new_y_pred_proba_test)\n",
    "\n",
    "#print AUC score\n",
    "print('AUC value of training data: ', new_auc_train)\n",
    "print('AUC value of testing data: ', new_auc_test)"
   ]
  },
  {
   "cell_type": "code",
   "execution_count": null,
   "metadata": {},
   "outputs": [],
   "source": [
    "#The AUC score of training data = 0.6417 and testing data = 0.6302"
   ]
  }
 ],
 "metadata": {
  "kernelspec": {
   "display_name": "Python 3",
   "language": "python",
   "name": "python3"
  },
  "language_info": {
   "codemirror_mode": {
    "name": "ipython",
    "version": 3
   },
   "file_extension": ".py",
   "mimetype": "text/x-python",
   "name": "python",
   "nbconvert_exporter": "python",
   "pygments_lexer": "ipython3",
   "version": "3.6.9"
  }
 },
 "nbformat": 4,
 "nbformat_minor": 2
}
