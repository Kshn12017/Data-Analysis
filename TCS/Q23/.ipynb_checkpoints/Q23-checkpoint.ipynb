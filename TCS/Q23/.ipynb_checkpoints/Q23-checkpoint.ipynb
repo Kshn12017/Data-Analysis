{
 "cells": [
  {
   "cell_type": "markdown",
   "metadata": {},
   "source": [
    "### Q23. Does the AUC value change by using pre-cap values (Created in question 21) and post-cap values (Created in question 22)?\n",
    "\n",
    "#### Answer: Yes, the AUC values change slightly when using pre-cap values and post-cap values."
   ]
  }
 ],
 "metadata": {
  "kernelspec": {
   "display_name": "Python 3",
   "language": "python",
   "name": "python3"
  },
  "language_info": {
   "codemirror_mode": {
    "name": "ipython",
    "version": 3
   },
   "file_extension": ".py",
   "mimetype": "text/x-python",
   "name": "python",
   "nbconvert_exporter": "python",
   "pygments_lexer": "ipython3",
   "version": "3.6.9"
  }
 },
 "nbformat": 4,
 "nbformat_minor": 2
}
