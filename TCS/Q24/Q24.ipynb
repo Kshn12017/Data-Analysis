{
 "cells": [
  {
   "cell_type": "code",
   "execution_count": 1,
   "metadata": {},
   "outputs": [],
   "source": [
    "import pandas as pd\n",
    "import numpy as np\n",
    "data = pd.read_csv('Data_set.csv')\n",
    "df = pd.DataFrame(data)"
   ]
  },
  {
   "cell_type": "code",
   "execution_count": 2,
   "metadata": {},
   "outputs": [],
   "source": [
    "df_model = df.copy()\n",
    "df_model = df_model[(df_model['BILL_AMT6'] > 0) & (df_model['Limit'] > 0) & (df_model['Debt'] > 31)]"
   ]
  },
  {
   "cell_type": "code",
   "execution_count": 3,
   "metadata": {},
   "outputs": [],
   "source": [
    "payment_ratio = df_model['PAY_AMT6'] / df_model['BILL_AMT6']\n",
    "df_model['payment_ratio']  = payment_ratio\n",
    "credit_limit = df_model['Limit']/1000\n",
    "df_model['credit_limit'] = credit_limit\n",
    "intercept = 1\n",
    "df_model['intercept'] = intercept"
   ]
  },
  {
   "cell_type": "code",
   "execution_count": 4,
   "metadata": {},
   "outputs": [],
   "source": [
    "x = df_model.loc[:,['Debt','credit_limit','intercept','payment_ratio']]\n",
    "y = df_model.loc[:,'default payment next month']\n",
    "\n",
    "from sklearn.model_selection import train_test_split\n",
    "x_train, x_test, y_train, y_test = train_test_split(x, y, test_size=0.2, random_state=0)"
   ]
  },
  {
   "cell_type": "code",
   "execution_count": 7,
   "metadata": {},
   "outputs": [],
   "source": [
    "from sklearn.metrics import roc_auc_score\n",
    "from sklearn.linear_model import LogisticRegression\n",
    "\n",
    "log_regression = LogisticRegression()\n",
    "log_regression.fit(x_train,y_train)\n",
    "\n",
    "y_pred_proba_train = log_regression.predict_proba(x_train)[::,1]\n",
    "y_pred_proba_test = log_regression.predict_proba(x_test)[::,1]"
   ]
  },
  {
   "cell_type": "markdown",
   "metadata": {},
   "source": [
    "## Q24. Score the model generated in question 17 on the train data and print following:"
   ]
  },
  {
   "cell_type": "markdown",
   "metadata": {},
   "source": [
    "### A. Minimum Probablity\n",
    "### B. Maximum Probablity\n",
    "### C. Total predicted defaults\n",
    "### D. Predicted default rate"
   ]
  },
  {
   "cell_type": "code",
   "execution_count": 22,
   "metadata": {},
   "outputs": [
    {
     "name": "stdout",
     "output_type": "stream",
     "text": [
      "Score:  0.7870398539701856\n",
      "Minimum Probability:  0.002831128469853428\n",
      "Maximum Probability:  0.3836915392004375\n",
      "Total default predicted:  0\n",
      "Default Rate:  0.0\n"
     ]
    }
   ],
   "source": [
    "from sklearn.metrics import accuracy_score\n",
    "\n",
    "y_pred = log_regression.predict(x_test)\n",
    "\n",
    "score = accuracy_score(y_test, y_pred)\n",
    "print(\"Score: \", score)\n",
    "\n",
    "print('Minimum Probability: ',y_pred_proba_train.min())\n",
    "print('Maximum Probability: ',y_pred_proba_train.max())\n",
    "\n",
    "predicted_defaults = (y_pred > 0.5).astype(int)\n",
    "total_defaults = np.sum(predicted_defaults)\n",
    "print('Total default predicted: ', total_defaults)\n",
    "\n",
    "default_rate = total_defaults/len(predicted_defaults)\n",
    "print('Default Rate: ', default_rate)"
   ]
  }
 ],
 "metadata": {
  "kernelspec": {
   "display_name": "Python 3",
   "language": "python",
   "name": "python3"
  },
  "language_info": {
   "codemirror_mode": {
    "name": "ipython",
    "version": 3
   },
   "file_extension": ".py",
   "mimetype": "text/x-python",
   "name": "python",
   "nbconvert_exporter": "python",
   "pygments_lexer": "ipython3",
   "version": "3.6.9"
  }
 },
 "nbformat": 4,
 "nbformat_minor": 2
}
