{
 "cells": [
  {
   "cell_type": "code",
   "execution_count": 1,
   "metadata": {},
   "outputs": [],
   "source": [
    "import pandas as pd\n",
    "import numpy as np\n",
    "data = pd.read_csv('Data_set.csv')\n",
    "df = pd.DataFrame(data)"
   ]
  },
  {
   "cell_type": "code",
   "execution_count": 2,
   "metadata": {},
   "outputs": [],
   "source": [
    "df_model = df.copy()\n",
    "df_model = df_model[(df_model['BILL_AMT6'] > 0) & (df_model['Limit'] > 0) & (df_model['Debt'] > 31)]"
   ]
  },
  {
   "cell_type": "code",
   "execution_count": 3,
   "metadata": {},
   "outputs": [],
   "source": [
    "payment_ratio = df_model['PAY_AMT6'] / df_model['BILL_AMT6']\n",
    "df_model['payment_ratio']  = payment_ratio\n",
    "credit_limit = df_model['Limit']/1000\n",
    "df_model['credit_limit'] = credit_limit\n",
    "intercept = 1\n",
    "df_model['intercept'] = intercept"
   ]
  },
  {
   "cell_type": "code",
   "execution_count": 4,
   "metadata": {},
   "outputs": [],
   "source": [
    "new_payment_ratio = payment_ratio.copy()\n",
    "pay_per99 = np.percentile(payment_ratio, 99)\n",
    "new_payment_ratio[payment_ratio > pay_per99] = pay_per99\n",
    "\n",
    "new_credit_limit = credit_limit.copy()\n",
    "credit_per99 = np.percentile(credit_limit, 99)\n",
    "new_credit_limit[credit_limit > credit_per99] = credit_per99\n",
    "\n",
    "new_total_debt = df_model['Debt'].copy()\n",
    "debt_per99 = np.percentile(df_model['Debt'], 99)\n",
    "new_total_debt[df_model['Debt'] > debt_per99] = debt_per99"
   ]
  },
  {
   "cell_type": "code",
   "execution_count": 5,
   "metadata": {},
   "outputs": [],
   "source": [
    "new_x = pd.DataFrame()\n",
    "new_x['new_total_debt'] = new_total_debt\n",
    "new_x['new_credit_limit'] = new_credit_limit\n",
    "new_x['intercept'] = df_model['intercept']\n",
    "new_x['new_payment_ratio'] = new_payment_ratio\n",
    "new_y = df_model.loc[:,'default payment next month']\n",
    "\n",
    "from sklearn.model_selection import train_test_split\n",
    "new_x_train, new_x_test, new_y_train, new_y_test = train_test_split(new_x, new_y, test_size=0.2, random_state=0)"
   ]
  },
  {
   "cell_type": "code",
   "execution_count": 9,
   "metadata": {},
   "outputs": [],
   "source": [
    "from sklearn.metrics import roc_auc_score\n",
    "from sklearn.linear_model import LogisticRegression\n",
    "\n",
    "new_log_regression = LogisticRegression()\n",
    "new_log_regression.fit(new_x_train,new_y_train)\n",
    "\n",
    "new_y_pred_proba_train = new_log_regression.predict_proba(new_x_train)[::,1]\n",
    "new_y_pred_proba_test = new_log_regression.predict_proba(new_x_test)[::,1]"
   ]
  },
  {
   "cell_type": "markdown",
   "metadata": {},
   "source": [
    "## Q25. Score the model generated in question 18 on the new train data and print following:"
   ]
  },
  {
   "cell_type": "markdown",
   "metadata": {},
   "source": [
    "### A. Minimum Probablity\n",
    "### B. Maximum Probablity\n",
    "### C. Total predicted defaults\n",
    "### D. Predicted default rate"
   ]
  },
  {
   "cell_type": "code",
   "execution_count": 12,
   "metadata": {},
   "outputs": [
    {
     "name": "stdout",
     "output_type": "stream",
     "text": [
      "Score:  0.7870398539701856\n",
      "Minimum Probability:  0.03581466523632522\n",
      "Maximum Probability:  0.38107523997944237\n",
      "Total default predicted:  0\n",
      "Default Rate:  0.0\n"
     ]
    }
   ],
   "source": [
    "from sklearn.metrics import accuracy_score\n",
    "\n",
    "new_y_pred = new_log_regression.predict(new_x_test)\n",
    "\n",
    "new_score = accuracy_score(new_y_test, new_y_pred)\n",
    "print(\"Score: \", new_score)\n",
    "\n",
    "print('Minimum Probability: ',new_y_pred_proba_train.min())\n",
    "print('Maximum Probability: ',new_y_pred_proba_train.max())\n",
    "\n",
    "new_predicted_defaults = (new_y_pred > 0.5).astype(int)\n",
    "new_total_defaults = np.sum(new_predicted_defaults)\n",
    "print('Total default predicted: ', new_total_defaults)\n",
    "\n",
    "new_default_rate = new_total_defaults/len(new_predicted_defaults)\n",
    "print('Default Rate: ', new_default_rate)"
   ]
  }
 ],
 "metadata": {
  "kernelspec": {
   "display_name": "Python 3",
   "language": "python",
   "name": "python3"
  },
  "language_info": {
   "codemirror_mode": {
    "name": "ipython",
    "version": 3
   },
   "file_extension": ".py",
   "mimetype": "text/x-python",
   "name": "python",
   "nbconvert_exporter": "python",
   "pygments_lexer": "ipython3",
   "version": "3.6.9"
  }
 },
 "nbformat": 4,
 "nbformat_minor": 2
}
