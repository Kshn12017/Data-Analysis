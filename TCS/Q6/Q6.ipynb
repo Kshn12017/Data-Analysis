{
 "cells": [
  {
   "cell_type": "markdown",
   "metadata": {},
   "source": [
    "## Q6. Create one derived variable named 'payment_ratio' in the model development data and compute minimum, maximum and mean of the derived variable. Derived variable logic: 'PAY_AMT6' / 'BILL_AMT6'"
   ]
  },
  {
   "cell_type": "code",
   "execution_count": 1,
   "metadata": {},
   "outputs": [],
   "source": [
    "import pandas as pd\n",
    "data = pd.read_csv('Data_set.csv')\n",
    "df = pd.DataFrame(data)"
   ]
  },
  {
   "cell_type": "code",
   "execution_count": 2,
   "metadata": {},
   "outputs": [
    {
     "name": "stdout",
     "output_type": "stream",
     "text": [
      "payment_ratio: \n",
      "Minimum:  0.0\n",
      "Maximum:  2643.33\n",
      "Mean:  1.7047184027756808\n"
     ]
    }
   ],
   "source": [
    "df_model = df.copy()\n",
    "df_model = df_model[(df_model['BILL_AMT6'] > 0) & (df_model['Limit'] > 0) & (df_model['Debt'] > 31)]\n",
    "\n",
    "payment_ratio = df_model['PAY_AMT6'] / df_model['BILL_AMT6']\n",
    "df_model['payment_ratio']  = payment_ratio\n",
    "print(\"payment_ratio: \")\n",
    "print(\"Minimum: \", df_model['payment_ratio'].min())\n",
    "print(\"Maximum: \", df_model['payment_ratio'].max())\n",
    "print(\"Mean: \", df_model['payment_ratio'].mean())"
   ]
  },
  {
   "cell_type": "code",
   "execution_count": 3,
   "metadata": {},
   "outputs": [],
   "source": [
    "#The Min =0.0, Max =2643.33, Mean =1.70"
   ]
  }
 ],
 "metadata": {
  "kernelspec": {
   "display_name": "Python 3",
   "language": "python",
   "name": "python3"
  },
  "language_info": {
   "codemirror_mode": {
    "name": "ipython",
    "version": 3
   },
   "file_extension": ".py",
   "mimetype": "text/x-python",
   "name": "python",
   "nbconvert_exporter": "python",
   "pygments_lexer": "ipython3",
   "version": "3.6.9"
  }
 },
 "nbformat": 4,
 "nbformat_minor": 2
}
