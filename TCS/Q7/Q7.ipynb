{
 "cells": [
  {
   "cell_type": "code",
   "execution_count": 1,
   "metadata": {},
   "outputs": [],
   "source": [
    "import pandas as pd\n",
    "data = pd.read_csv('Data_set.csv')\n",
    "df = pd.DataFrame(data)"
   ]
  },
  {
   "cell_type": "code",
   "execution_count": 2,
   "metadata": {},
   "outputs": [],
   "source": [
    "df_model = df.copy()\n",
    "df_model = df_model[(df_model['BILL_AMT6'] > 0) & (df_model['Limit'] > 0) & (df_model['Debt'] > 31)]"
   ]
  },
  {
   "cell_type": "markdown",
   "metadata": {},
   "source": [
    "## Q7. Create one rescaled variable credit limit (divided by 1000) in the model development data and compute minimum, maximum and mean of before and after of the rescaled variable. Use variable 'Limit'."
   ]
  },
  {
   "cell_type": "code",
   "execution_count": 3,
   "metadata": {},
   "outputs": [
    {
     "name": "stdout",
     "output_type": "stream",
     "text": [
      "Limit: \n",
      "Minimum:  10100\n",
      "Maximum:  1000500\n",
      "Mean:  186878.86576609468\n",
      "-----------------------------------\n",
      "credit_limit: \n",
      "Minimum:  10.1\n",
      "Maximum:  1000.5\n",
      "Mean:  186.87886576609466\n"
     ]
    }
   ],
   "source": [
    "credit_limit = df_model['Limit']/1000\n",
    "df_model['credit_limit'] = credit_limit\n",
    "print(\"Limit: \")\n",
    "print(\"Minimum: \", df_model['Limit'].min())\n",
    "print(\"Maximum: \", df_model['Limit'].max())\n",
    "print(\"Mean: \", df_model['Limit'].mean())\n",
    "print(\"-----------------------------------\")\n",
    "print(\"credit_limit: \")\n",
    "print(\"Minimum: \", df_model['credit_limit'].min())\n",
    "print(\"Maximum: \", df_model['credit_limit'].max())\n",
    "print(\"Mean: \", df_model['credit_limit'].mean())"
   ]
  },
  {
   "cell_type": "code",
   "execution_count": 4,
   "metadata": {},
   "outputs": [],
   "source": [
    "#For Limit, the Min =10100, Max =1000500, Mean =186878.87"
   ]
  },
  {
   "cell_type": "code",
   "execution_count": 5,
   "metadata": {},
   "outputs": [],
   "source": [
    "#For credit_limit, the Min =10.1, Max =1000.5, Mean =186.88"
   ]
  }
 ],
 "metadata": {
  "kernelspec": {
   "display_name": "Python 3",
   "language": "python",
   "name": "python3"
  },
  "language_info": {
   "codemirror_mode": {
    "name": "ipython",
    "version": 3
   },
   "file_extension": ".py",
   "mimetype": "text/x-python",
   "name": "python",
   "nbconvert_exporter": "python",
   "pygments_lexer": "ipython3",
   "version": "3.6.9"
  }
 },
 "nbformat": 4,
 "nbformat_minor": 2
}
