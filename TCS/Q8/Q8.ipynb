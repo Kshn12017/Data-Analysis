{
 "cells": [
  {
   "cell_type": "code",
   "execution_count": 1,
   "metadata": {},
   "outputs": [],
   "source": [
    "import pandas as pd\n",
    "data = pd.read_csv('Data_set.csv')\n",
    "df = pd.DataFrame(data)"
   ]
  },
  {
   "cell_type": "code",
   "execution_count": 2,
   "metadata": {},
   "outputs": [],
   "source": [
    "df_model = df.copy()\n",
    "df_model = df_model[(df_model['BILL_AMT6'] > 0) & (df_model['Limit'] > 0) & (df_model['Debt'] > 31)]\n",
    "payment_ratio = df_model['PAY_AMT6'] / df_model['BILL_AMT6']"
   ]
  },
  {
   "cell_type": "markdown",
   "metadata": {},
   "source": [
    "## Q8. Perform bivariate analysis on the continuous variable payment ratio (Payratio, created in question 6). Divide the variable in the five equal bins and compute default rate in each bin."
   ]
  },
  {
   "cell_type": "code",
   "execution_count": 3,
   "metadata": {},
   "outputs": [
    {
     "name": "stdout",
     "output_type": "stream",
     "text": [
      "(-0.001, 0.0303]    0.279586\n",
      "(0.0303, 0.0395]    0.222391\n",
      "(0.0395, 0.0758]    0.227632\n",
      "(0.0758, 0.668]     0.189230\n",
      "(0.668, 2643.33]    0.156374\n",
      "Name: default payment next month, dtype: float64\n"
     ]
    }
   ],
   "source": [
    "payment_bin = pd.qcut(payment_ratio,q=5)\n",
    "default_rates = df_model.groupby(payment_bin)['default payment next month'].mean()\n",
    "print(default_rates)"
   ]
  }
 ],
 "metadata": {
  "kernelspec": {
   "display_name": "Python 3",
   "language": "python",
   "name": "python3"
  },
  "language_info": {
   "codemirror_mode": {
    "name": "ipython",
    "version": 3
   },
   "file_extension": ".py",
   "mimetype": "text/x-python",
   "name": "python",
   "nbconvert_exporter": "python",
   "pygments_lexer": "ipython3",
   "version": "3.6.9"
  }
 },
 "nbformat": 4,
 "nbformat_minor": 2
}
