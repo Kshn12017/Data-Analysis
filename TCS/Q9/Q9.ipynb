{
 "cells": [
  {
   "cell_type": "code",
   "execution_count": 1,
   "metadata": {},
   "outputs": [],
   "source": [
    "import pandas as pd\n",
    "data = pd.read_csv('Data_set.csv')\n",
    "df = pd.DataFrame(data)"
   ]
  },
  {
   "cell_type": "code",
   "execution_count": 2,
   "metadata": {},
   "outputs": [],
   "source": [
    "df_model = df.copy()\n",
    "df_model = df_model[(df_model['BILL_AMT6'] > 0) & (df_model['Limit'] > 0) & (df_model['Debt'] > 31)]\n",
    "credit_limit = df_model['Limit']/1000"
   ]
  },
  {
   "cell_type": "markdown",
   "metadata": {},
   "source": [
    "## Q9. Perform bivariate analysis on the continuous variable credit limit (LIMIT_BAL1, created in question 7). Divide the variable in the five equal bins and compute default rate in each bin."
   ]
  },
  {
   "cell_type": "code",
   "execution_count": 3,
   "metadata": {},
   "outputs": [
    {
     "name": "stdout",
     "output_type": "stream",
     "text": [
      "Limit\n",
      "(10.099, 50.5]     0.329952\n",
      "(50.5, 120.4]      0.273535\n",
      "(120.4, 200.4]     0.195001\n",
      "(200.4, 300.2]     0.157271\n",
      "(300.2, 1000.5]    0.112667\n",
      "Name: default payment next month, dtype: float64\n"
     ]
    }
   ],
   "source": [
    "credit_bin = pd.qcut(credit_limit,q=5)\n",
    "default_rates = df_model.groupby(credit_bin)['default payment next month'].mean()\n",
    "print(default_rates)"
   ]
  }
 ],
 "metadata": {
  "kernelspec": {
   "display_name": "Python 3",
   "language": "python",
   "name": "python3"
  },
  "language_info": {
   "codemirror_mode": {
    "name": "ipython",
    "version": 3
   },
   "file_extension": ".py",
   "mimetype": "text/x-python",
   "name": "python",
   "nbconvert_exporter": "python",
   "pygments_lexer": "ipython3",
   "version": "3.6.9"
  }
 },
 "nbformat": 4,
 "nbformat_minor": 2
}
